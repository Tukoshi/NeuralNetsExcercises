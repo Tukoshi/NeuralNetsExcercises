{
 "cells": [
  {
   "cell_type": "code",
   "execution_count": 1,
   "metadata": {},
   "outputs": [
    {
     "name": "stderr",
     "output_type": "stream",
     "text": [
      "Using TensorFlow backend.\n"
     ]
    }
   ],
   "source": [
    "import keras\n",
    "import tensorflow\n",
    "import matplotlib.pyplot as plt\n",
    "import numpy as np\n",
    "from sklearn import preprocessing\n",
    "\n"
   ]
  },
  {
   "cell_type": "markdown",
   "metadata": {},
   "source": [
    "# This is level 1 heading\n",
    "\n",
    "Scenariusz: \n",
    "Mając zbiór koszykarzy, z których każego można opisać 5 cechami,\n",
    "spróbuj ich sklasyfikowac\n",
    "\n",
    "\n",
    "Cechy:\n",
    "\n",
    "wzrost     120-240 [centymetrow]\n",
    "wiek       20-45   [lat]\n",
    "celnosc    1-100   [jednostek]\n",
    "siła       1-100   [jednostek]\n",
    "odległość  100+    [decymetrow]\n",
    "\n",
    "Celność, siła i wzrost kasują się z odległością i wiekiem, gdyż \n",
    "im ktoś jest silniejsz, ma lepsze oko  i jest mlodszy \n",
    "tym z większej wysokości pewnie trafi do kosza.\n",
    "Wzór na szanse trafienie dajacy w miare rzeczywiste rezultaty:\n",
    "\n",
    "szansa = ((wzrost*sila*celnosc)/(odleglosc^2)-wiek)/10\n",
    "szansa = (szansa - MIN_SZANSE)/(MAX_SZANSE - MIN_SZANSE) * 1000\n",
    "     gdzie\n",
    "MAX_SZANSE = ((MAX_FEATURE^2) *MAX_HEIGHT)/(MIN_RANGE^2) - MIN_AGE\n",
    "MIN_SZANSE = ((MIN_FEATURE^2) *MIN_HEIGHT)/(MAX_RANGE^2) - MAX_AGE\n",
    "\n"
   ]
  },
  {
   "cell_type": "code",
   "execution_count": 2,
   "metadata": {},
   "outputs": [
    {
     "name": "stdout",
     "output_type": "stream",
     "text": [
      "Min. szansa:    121.5\n",
      "Max. szansa:    4000.0\n"
     ]
    }
   ],
   "source": [
    "# Klasa pozwalajaca generowac koszykarzy\n",
    "import random\n",
    "\n",
    "MAX_RANGE = 100\n",
    "MIN_RANGE = 30\n",
    "\n",
    "MAX_AGE = 45\n",
    "MIN_AGE = 20\n",
    "\n",
    "MAX_FEATURE = 100\n",
    "MIN_FEATURE = 45\n",
    "\n",
    "MAX_HEIGHT = 240\n",
    "MIN_HEIGHT = 120\n",
    "\n",
    "MAX_SZANSE = ((MAX_FEATURE**2) *MAX_HEIGHT)/(MIN_RANGE*MIN_AGE) \n",
    "MIN_SZANSE = ((MIN_FEATURE**2) *MIN_HEIGHT)/(MAX_RANGE*MIN_AGE)\n",
    "\n",
    "\n",
    "\n",
    "class Person:\n",
    "    def __init__(self):\n",
    "        self.wiek = random.randint(MIN_AGE,MAX_AGE)\n",
    "        self.wzrost = random.randint(MIN_HEIGHT,MAX_HEIGHT)\n",
    "        self.celnosc = random.randint(MIN_FEATURE,MAX_FEATURE)\n",
    "        self.sila = random.randint(MIN_FEATURE,MAX_FEATURE)\n",
    "        self.odleglosc = random.randint(MIN_RANGE,MAX_RANGE)\n",
    "        self.szansa = ((self.wzrost*self.sila*self.celnosc)/(self.odleglosc*self.wiek))\n",
    "        self.szansa = (self.szansa - MIN_SZANSE)/(MAX_SZANSE - MIN_SZANSE) * 100\n",
    "        if (random.randint(1,100) <= self.szansa):\n",
    "            self.trafil = True\n",
    "        else:\n",
    "            self.trafil = False\n",
    "            \n",
    "    def print_stats(self):\n",
    "        print(\"Wzrost:     \", self.wzrost)\n",
    "        print(\"Sila:       \", self.sila)\n",
    "        print(\"Celnosc:    \", self.celnosc)\n",
    "        print(\"Wiek:       \", self.wiek)\n",
    "        print(\"Odleglosc:  \", self.odleglosc)\n",
    "        print(\"Szansa:     \", self.szansa * 100)\n",
    "        print(\"Trafil:     \", self.trafil)\n",
    "    \n",
    "        \n",
    "        \n",
    "print(\"Min. szansa:   \", MIN_SZANSE)\n",
    "print(\"Max. szansa:   \", MAX_SZANSE)\n"
   ]
  },
  {
   "cell_type": "code",
   "execution_count": 3,
   "metadata": {},
   "outputs": [],
   "source": [
    "# generuj probki do treningu i testow\n",
    "szanse = []\n",
    "def generujLudzi(ilosc):\n",
    "    cechy = []\n",
    "    czy_trafil = []\n",
    "    for i in range(1,ilosc):\n",
    "        osoba = Person()\n",
    "        cechy.append([osoba.wiek, osoba.odleglosc, osoba.sila, osoba.celnosc,\n",
    "                     osoba.wzrost])\n",
    "        szanse.append(osoba.szansa)\n",
    "        if osoba.trafil == True:\n",
    "            czy_trafil.append(1)\n",
    "        else:\n",
    "            czy_trafil.append(0)\n",
    "    return (cechy, czy_trafil)\n",
    "\n",
    "(x_train, y_train) = generujLudzi(100000)\n",
    "(x_test, y_test) = generujLudzi(10000)"
   ]
  },
  {
   "cell_type": "code",
   "execution_count": 4,
   "metadata": {},
   "outputs": [
    {
     "name": "stderr",
     "output_type": "stream",
     "text": [
      "C:\\Users\\DELL\\Anaconda3\\lib\\site-packages\\sklearn\\utils\\validation.py:595: DataConversionWarning: Data with input dtype int32 was converted to float64 by MinMaxScaler.\n",
      "  warnings.warn(msg, DataConversionWarning)\n",
      "C:\\Users\\DELL\\Anaconda3\\lib\\site-packages\\sklearn\\utils\\validation.py:595: DataConversionWarning: Data with input dtype int32 was converted to float64 by MinMaxScaler.\n",
      "  warnings.warn(msg, DataConversionWarning)\n"
     ]
    }
   ],
   "source": [
    "# przekonwertuj na tablica numpy'ja i normalizuj dane\n",
    "x_train = np.array(x_train)\n",
    "x_test  = np.array(x_test)\n",
    "y_train = np.array(y_train)\n",
    "y_test  = np.array(y_test)\n",
    "scaler = preprocessing.MinMaxScaler(feature_range=(0,1))\n",
    "scalled_x_train = scaler.fit_transform(x_train)\n",
    "scalled_x_test  = scaler.fit_transform(x_test)\n",
    "\n"
   ]
  },
  {
   "cell_type": "code",
   "execution_count": 5,
   "metadata": {},
   "outputs": [
    {
     "name": "stdout",
     "output_type": "stream",
     "text": [
      "min wiek:                      20\n",
      "max wiek:                      45\n",
      "Sredni wiek:                   32.50782507825078\n",
      "1 kwartyl wieku:               26.0\n",
      "mediana wieku:                 33.0\n",
      "3 kwartyl wieku:               39.0\n",
      "standardowe odchylenie  wiek:  7.4962736216032555\n",
      "-----------------------------------------------------\n",
      "min  odleglosc:               30\n",
      "max  odleglosc:               100\n",
      "Srednia  odleglosc:           64.96618966189662\n",
      "1 kwartyl odleglosci:         47.0\n",
      "mediana odleglosci:           65.0\n",
      "3 kwartyl odleglosci:         83.0\n",
      "standardowe odchylenie  odl:  20.513539307623585\n",
      "-----------------------------------------------------\n",
      "min sila:                      45\n",
      "max sila:                      100\n",
      "Srednia sila:                  72.50991509915099\n",
      "1 kwartyl sily:                59.0\n",
      "Mediana sily:                  73.0\n",
      "3 kwartyl sily:                86.0\n",
      "standardowe odchylenie  sily:  16.109304587372318\n",
      "-----------------------------------------------------\n",
      "min celnosc:                      45\n",
      "max celnosc:                      100\n",
      "Srednia celnosc:                  72.47221472214723\n",
      "1 kwartyl celnosci:               59.0\n",
      "Mediana celnosci:                 72.0\n",
      "3 kwartyl celnosci:               86.0\n",
      "standardowe odchylenie  wiek:     16.132350356142624\n",
      "-----------------------------------------------------\n",
      "min wzrost:                    120\n",
      "max wzrost:                    240\n",
      "Sredni wzrost:                 180.09739097390974\n",
      "1 kwartyl wieku:               150.0\n",
      "Mediana wieku:                 180.0\n",
      "3 kwartyl wieku:               210.0\n",
      "standardowe odchylenie  wiek:  34.899348772412615\n",
      "-----------------------------------------------------\n",
      "-----------------------------------------------------\n",
      "min szansa:                     -1.502711627034819\n",
      "max szansa:                     79.04312234111124\n",
      "Srednia szansa:                 10.600043660895842\n",
      "1 kwartyl szans:                4.757200722412317\n",
      "Mediana szans:                  8.484535363713618\n",
      "3 kwartyl szans:                14.132015657412074\n",
      "standardowe odchylenie  szans:  8.331812954774293\n",
      "9991 90008\n"
     ]
    }
   ],
   "source": [
    "# troche statystyk\n",
    "print(\"min wiek:                     \", np.min(x_train[:,0:1]))\n",
    "print(\"max wiek:                     \", np.max(x_train[:,0:1]))\n",
    "print(\"Sredni wiek:                  \", np.mean(x_train[:,0:1]))\n",
    "print(\"1 kwartyl wieku:              \", np.quantile(x_train[:,0:1],0.25))\n",
    "print(\"mediana wieku:                \", np.quantile(x_train[:,0:1],0.5))\n",
    "print(\"3 kwartyl wieku:              \", np.quantile(x_train[:,0:1],0.75))\n",
    "print(\"standardowe odchylenie  wiek: \", np.std(x_train[:,0:1]))\n",
    "print(\"-----------------------------------------------------\")\n",
    "print(\"min  odleglosc:              \", np.min (x_train[:,1:2]))\n",
    "print(\"max  odleglosc:              \", np.max (x_train[:,1:2]))\n",
    "print(\"Srednia  odleglosc:          \", np.mean (x_train[:,1:2]))\n",
    "print(\"1 kwartyl odleglosci:        \", np.quantile(x_train[:,1:2],0.25))\n",
    "print(\"mediana odleglosci:          \", np.quantile(x_train[:,1:2],0.5))\n",
    "print(\"3 kwartyl odleglosci:        \", np.quantile(x_train[:,1:2],0.75))\n",
    "print(\"standardowe odchylenie  odl: \", np.std(x_train[:,1:2]))\n",
    "print(\"-----------------------------------------------------\")\n",
    "print(\"min sila:                     \", np.min (x_train[:,2:3]))\n",
    "print(\"max sila:                     \", np.max (x_train[:,2:3]))\n",
    "print(\"Srednia sila:                 \", np.mean (x_train[:,2:3]))\n",
    "print(\"1 kwartyl sily:               \", np.quantile(x_train[:,2:3],0.25))\n",
    "print(\"Mediana sily:                 \", np.quantile(x_train[:,2:3],0.5))\n",
    "print(\"3 kwartyl sily:               \", np.quantile(x_train[:,2:3],0.75))\n",
    "print(\"standardowe odchylenie  sily: \", np.std(x_train[:,2:3]))\n",
    "print(\"-----------------------------------------------------\")\n",
    "print(\"min celnosc:                     \", np.min (x_train[:,3:4]))\n",
    "print(\"max celnosc:                     \", np.max (x_train[:,3:4]))\n",
    "print(\"Srednia celnosc:                 \", np.mean (x_train[:,3:4]))\n",
    "print(\"1 kwartyl celnosci:              \", np.quantile(x_train[:,3:4],0.25))\n",
    "print(\"Mediana celnosci:                \", np.quantile(x_train[:,3:4],0.5))\n",
    "print(\"3 kwartyl celnosci:              \", np.quantile(x_train[:,3:4],0.75))\n",
    "print(\"standardowe odchylenie  wiek:    \", np.std(x_train[:,3:4]))\n",
    "print(\"-----------------------------------------------------\")\n",
    "print(\"min wzrost:                   \", np.min (x_train[:,4:5]))\n",
    "print(\"max wzrost:                   \", np.max (x_train[:,4:5]))\n",
    "print(\"Sredni wzrost:                \", np.mean (x_train[:,4:5]))\n",
    "print(\"1 kwartyl wieku:              \", np.quantile(x_train[:,4:5],0.25))\n",
    "print(\"Mediana wieku:                \", np.quantile(x_train[:,4:5],0.5))\n",
    "print(\"3 kwartyl wieku:              \", np.quantile(x_train[:,4:5],0.75))\n",
    "print(\"standardowe odchylenie  wiek: \", np.std(x_train[:,4:5]))\n",
    "print(\"-----------------------------------------------------\")\n",
    "print(\"-----------------------------------------------------\")\n",
    "print(\"min szansa:                    \", np.min (szanse))\n",
    "print(\"max szansa:                    \", np.max (szanse))\n",
    "print(\"Srednia szansa:                \", np.mean (szanse))\n",
    "print(\"1 kwartyl szans:               \", np.quantile(szanse,0.25))\n",
    "print(\"Mediana szans:                 \", np.quantile(szanse,0.5))\n",
    "print(\"3 kwartyl szans:               \", np.quantile(szanse,0.75))\n",
    "print(\"standardowe odchylenie  szans: \", np.std(szanse))\n",
    "\n",
    "nie = 0\n",
    "tak = 0\n",
    "\n",
    "for i in y_train:\n",
    "    if i == 0:\n",
    "        nie += 1\n",
    "    else:\n",
    "        tak += 1\n",
    "        \n",
    "print(tak, nie)"
   ]
  },
  {
   "cell_type": "code",
   "execution_count": 6,
   "metadata": {},
   "outputs": [
    {
     "name": "stdout",
     "output_type": "stream",
     "text": [
      "WARNING:tensorflow:From C:\\Users\\DELL\\Anaconda3\\lib\\site-packages\\tensorflow\\python\\framework\\op_def_library.py:263: colocate_with (from tensorflow.python.framework.ops) is deprecated and will be removed in a future version.\n",
      "Instructions for updating:\n",
      "Colocations handled automatically by placer.\n",
      "_________________________________________________________________\n",
      "Layer (type)                 Output Shape              Param #   \n",
      "=================================================================\n",
      "dense_1 (Dense)              (None, 100)               600       \n",
      "_________________________________________________________________\n",
      "dense_2 (Dense)              (None, 100)               10100     \n",
      "_________________________________________________________________\n",
      "dense_3 (Dense)              (None, 1)                 101       \n",
      "=================================================================\n",
      "Total params: 10,801\n",
      "Trainable params: 10,801\n",
      "Non-trainable params: 0\n",
      "_________________________________________________________________\n"
     ]
    }
   ],
   "source": [
    "# stworz model\n",
    "\n",
    "from keras.layers import Dense\n",
    "\n",
    "model = keras.Sequential()\n",
    "model.add(Dense(100, input_shape = (5,), activation='softmax'))\n",
    "model.add(Dense(100, activation='softmax'))\n",
    "model.add(Dense(1, activation='sigmoid'))\n",
    "\n",
    "model.summary()\n"
   ]
  },
  {
   "cell_type": "code",
   "execution_count": 7,
   "metadata": {},
   "outputs": [
    {
     "name": "stdout",
     "output_type": "stream",
     "text": [
      "WARNING:tensorflow:From C:\\Users\\DELL\\Anaconda3\\lib\\site-packages\\tensorflow\\python\\ops\\math_ops.py:3066: to_int32 (from tensorflow.python.ops.math_ops) is deprecated and will be removed in a future version.\n",
      "Instructions for updating:\n",
      "Use tf.cast instead.\n",
      "Epoch 1/10\n",
      "99999/99999 [==============================] - 1s 11us/step - loss: 0.2323 - acc: 0.8442\n",
      "Epoch 2/10\n",
      "99999/99999 [==============================] - 1s 8us/step - loss: 0.1962 - acc: 0.9001\n",
      "Epoch 3/10\n",
      "99999/99999 [==============================] - 1s 8us/step - loss: 0.1680 - acc: 0.9001\n",
      "Epoch 4/10\n",
      "99999/99999 [==============================] - 1s 8us/step - loss: 0.1464 - acc: 0.9001\n",
      "Epoch 5/10\n",
      "99999/99999 [==============================] - 1s 8us/step - loss: 0.1303 - acc: 0.9001\n",
      "Epoch 6/10\n",
      "99999/99999 [==============================] - 1s 8us/step - loss: 0.1185 - acc: 0.9001\n",
      "Epoch 7/10\n",
      "99999/99999 [==============================] - 1s 9us/step - loss: 0.1098 - acc: 0.9001\n",
      "Epoch 8/10\n",
      "99999/99999 [==============================] - 1s 8us/step - loss: 0.1036 - acc: 0.9001\n",
      "Epoch 9/10\n",
      "99999/99999 [==============================] - 1s 8us/step - loss: 0.0993 - acc: 0.9001\n",
      "Epoch 10/10\n",
      "99999/99999 [==============================] - 1s 8us/step - loss: 0.0964 - acc: 0.9001\n",
      "9999/9999 [==============================] - 0s 22us/step\n",
      "Loss walidacji:         0.0972920724339146\n",
      "Poprawnosc Walidacji:   89.68896889688969 %\n"
     ]
    }
   ],
   "source": [
    "model.compile(optimizer=\"adam\", loss=\"mean_squared_error\",\n",
    "             metrics=['accuracy'])\n",
    "model.fit(scalled_x_train, y_train, epochs=10, batch_size=1000)\n",
    "valid_test, valid_acc = model.evaluate(scalled_x_test, y_test)\n",
    "\n",
    "print(\"Loss walidacji:        \", valid_test)\n",
    "print(\"Poprawnosc Walidacji:  \", valid_acc*100,\"%\")"
   ]
  },
  {
   "cell_type": "code",
   "execution_count": null,
   "metadata": {},
   "outputs": [],
   "source": []
  }
 ],
 "metadata": {
  "kernelspec": {
   "display_name": "Python 3",
   "language": "python",
   "name": "python3"
  },
  "language_info": {
   "codemirror_mode": {
    "name": "ipython",
    "version": 3
   },
   "file_extension": ".py",
   "mimetype": "text/x-python",
   "name": "python",
   "nbconvert_exporter": "python",
   "pygments_lexer": "ipython3",
   "version": "3.7.3"
  }
 },
 "nbformat": 4,
 "nbformat_minor": 2
}
