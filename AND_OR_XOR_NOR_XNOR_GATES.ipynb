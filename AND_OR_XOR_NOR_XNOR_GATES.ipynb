{
 "cells": [
  {
   "cell_type": "code",
   "execution_count": 30,
   "metadata": {},
   "outputs": [],
   "source": [
    "import random\n",
    "import keras\n",
    "import numpy\n",
    "\n",
    "\n",
    "\n",
    "# AND GATE\n",
    "\n",
    "def get_and(ilosc):\n",
    "    x_train = []\n",
    "    y_train = []\n",
    "    for i in range (1,ilosc):\n",
    "        x1 = random.randint(0,1)\n",
    "        x2 = random.randint(0,1)\n",
    "        x_train.append([x1,x2])\n",
    "        if x1 == 0 or x2 == 0:\n",
    "            y = 0\n",
    "            y_train.append(y)\n",
    "        else:\n",
    "            y = 1\n",
    "            y_train.append(0)\n",
    "    return (x_train, y_train)\n",
    "def get_or(ilosc):\n",
    "    x_train = []\n",
    "    y_train = []\n",
    "    for i in range (1,ilosc):\n",
    "        x1 = random.randint(0,1)\n",
    "        x2 = random.randint(0,1)\n",
    "        x_train.append([x1,x2])\n",
    "        if x1 == 1 or x2 == 1:\n",
    "            y = 1\n",
    "            y_train.append(y)\n",
    "        else:\n",
    "            y = 0\n",
    "            y_train.append(0)\n",
    "    return (x_train, y_train)\n",
    "\n",
    "def get_nor(ilosc):\n",
    "    x_train = []\n",
    "    y_train = []\n",
    "    for i in range (1,ilosc):\n",
    "        x1 = random.randint(0,1)\n",
    "        x2 = random.randint(0,1)\n",
    "        x_train.append([x1,x2])\n",
    "        if x1 == 1 or x2 == 1:\n",
    "            y = 0\n",
    "            y_train.append(y)\n",
    "        else:\n",
    "            y = 1\n",
    "            y_train.append(0)\n",
    "    return (x_train, y_train)\n",
    "\n",
    "def get_xor(ilosc):\n",
    "    x_train = []\n",
    "    y_train = []\n",
    "    for i in range (1,ilosc):\n",
    "        x1 = random.randint(0,1)\n",
    "        x2 = random.randint(0,1)\n",
    "        x_train.append([x1,x2])\n",
    "        if x1 == x2:\n",
    "            y = 1\n",
    "            y_train.append(y)\n",
    "        else:\n",
    "            y = 0\n",
    "            y_train.append(0)\n",
    "    return (x_train, y_train)        \n",
    "def get_xnor(ilosc):\n",
    "    x_train = []\n",
    "    y_train = []\n",
    "    for i in range (1,ilosc):\n",
    "        x1 = random.randint(0,1)\n",
    "        x2 = random.randint(0,1)\n",
    "        x_train.append([x1,x2])\n",
    "        if x1 == x2:\n",
    "            y = 1\n",
    "            y_train.append(y)\n",
    "        else:\n",
    "            y = 0\n",
    "            y_train.append(0)\n",
    "    return (x_train, y_train)\n",
    "\n",
    "ilosc = 100000\n",
    "(x_train, y_train) = get_or(ilosc)\n",
    "x_train = numpy.array(x_train)\n",
    "y_train = numpy.array(y_train)"
   ]
  },
  {
   "cell_type": "code",
   "execution_count": 35,
   "metadata": {},
   "outputs": [
    {
     "name": "stdout",
     "output_type": "stream",
     "text": [
      "_________________________________________________________________\n",
      "Layer (type)                 Output Shape              Param #   \n",
      "=================================================================\n",
      "dense_46 (Dense)             (None, 1)                 3         \n",
      "=================================================================\n",
      "Total params: 3\n",
      "Trainable params: 3\n",
      "Non-trainable params: 0\n",
      "_________________________________________________________________\n"
     ]
    }
   ],
   "source": [
    "\n",
    "model = keras.Sequential()\n",
    "model.add(keras.layers.Dense(1, input_shape = (2,),activation='linear'))\n",
    "\n",
    "\n",
    "\n",
    "model.compile(optimizer='Adam',\n",
    "             loss='mean_squared_error',\n",
    "             metrics=['accuracy'])\n",
    "model.build()\n",
    "model.summary()"
   ]
  },
  {
   "cell_type": "code",
   "execution_count": 36,
   "metadata": {},
   "outputs": [
    {
     "name": "stdout",
     "output_type": "stream",
     "text": [
      "Train on 66999 samples, validate on 33000 samples\n",
      "Epoch 1/10\n",
      "66999/66999 [==============================] - 1s 11us/step - loss: 0.4743 - acc: 0.3001 - val_loss: 0.3922 - val_acc: 0.5014\n",
      "Epoch 2/10\n",
      "66999/66999 [==============================] - 0s 2us/step - loss: 0.3318 - acc: 0.6700 - val_loss: 0.2750 - val_acc: 0.7537\n",
      "Epoch 3/10\n",
      "66999/66999 [==============================] - 0s 2us/step - loss: 0.2354 - acc: 0.7514 - val_loss: 0.1979 - val_acc: 0.7537\n",
      "Epoch 4/10\n",
      "66999/66999 [==============================] - 0s 2us/step - loss: 0.1735 - acc: 0.7514 - val_loss: 0.1500 - val_acc: 0.7537\n",
      "Epoch 5/10\n",
      "66999/66999 [==============================] - 0s 2us/step - loss: 0.1358 - acc: 0.7514 - val_loss: 0.1215 - val_acc: 0.7537\n",
      "Epoch 6/10\n",
      "66999/66999 [==============================] - 0s 2us/step - loss: 0.1136 - acc: 0.7514 - val_loss: 0.1049 - val_acc: 0.7537\n",
      "Epoch 7/10\n",
      "66999/66999 [==============================] - 0s 2us/step - loss: 0.1004 - acc: 0.7514 - val_loss: 0.0949 - val_acc: 0.7537\n",
      "Epoch 8/10\n",
      "66999/66999 [==============================] - 0s 2us/step - loss: 0.0922 - acc: 0.7665 - val_loss: 0.0884 - val_acc: 1.0000\n",
      "Epoch 9/10\n",
      "66999/66999 [==============================] - 0s 2us/step - loss: 0.0866 - acc: 1.0000 - val_loss: 0.0837 - val_acc: 1.0000\n",
      "Epoch 10/10\n",
      "66999/66999 [==============================] - 0s 2us/step - loss: 0.0824 - acc: 1.0000 - val_loss: 0.0800 - val_acc: 1.0000\n"
     ]
    },
    {
     "data": {
      "text/plain": [
       "<keras.callbacks.History at 0x1cbe3270e80>"
      ]
     },
     "execution_count": 36,
     "metadata": {},
     "output_type": "execute_result"
    }
   ],
   "source": [
    "model.fit(x_train, y_train, batch_size=1000, epochs=10, validation_split=0.33, verbose=1)"
   ]
  },
  {
   "cell_type": "code",
   "execution_count": null,
   "metadata": {},
   "outputs": [],
   "source": []
  },
  {
   "cell_type": "code",
   "execution_count": null,
   "metadata": {},
   "outputs": [],
   "source": []
  },
  {
   "cell_type": "code",
   "execution_count": null,
   "metadata": {},
   "outputs": [],
   "source": []
  }
 ],
 "metadata": {
  "kernelspec": {
   "display_name": "Python 3",
   "language": "python",
   "name": "python3"
  },
  "language_info": {
   "codemirror_mode": {
    "name": "ipython",
    "version": 3
   },
   "file_extension": ".py",
   "mimetype": "text/x-python",
   "name": "python",
   "nbconvert_exporter": "python",
   "pygments_lexer": "ipython3",
   "version": "3.7.3"
  }
 },
 "nbformat": 4,
 "nbformat_minor": 2
}
